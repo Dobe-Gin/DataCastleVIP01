{
 "cells": [
  {
   "cell_type": "markdown",
   "metadata": {},
   "source": [
    "作业一"
   ]
  },
  {
   "cell_type": "code",
   "execution_count": 3,
   "metadata": {},
   "outputs": [
    {
     "name": "stdout",
     "output_type": "stream",
     "text": [
      "2019-07-01T12:50:03.589396+00:00\n"
     ]
    }
   ],
   "source": [
    "import arrow \n",
    "t = arrow.utcnow()\n",
    "print(t)"
   ]
  },
  {
   "cell_type": "markdown",
   "metadata": {},
   "source": [
    "作业二"
   ]
  },
  {
   "cell_type": "markdown",
   "metadata": {},
   "source": [
    "九九乘法表"
   ]
  },
  {
   "cell_type": "code",
   "execution_count": 12,
   "metadata": {},
   "outputs": [
    {
     "name": "stdout",
     "output_type": "stream",
     "text": [
      "1*1=1 \n",
      "\n",
      "1*2=2 2*2=4 \n",
      "\n",
      "1*3=3 2*3=6 3*3=9 \n",
      "\n",
      "1*4=4 2*4=8 3*4=12 4*4=16 \n",
      "\n",
      "1*5=5 2*5=10 3*5=15 4*5=20 5*5=25 \n",
      "\n",
      "1*6=6 2*6=12 3*6=18 4*6=24 5*6=30 6*6=36 \n",
      "\n",
      "1*7=7 2*7=14 3*7=21 4*7=28 5*7=35 6*7=42 7*7=49 \n",
      "\n",
      "1*8=8 2*8=16 3*8=24 4*8=32 5*8=40 6*8=48 7*8=56 8*8=64 \n",
      "\n",
      "1*9=9 2*9=18 3*9=27 4*9=36 5*9=45 6*9=54 7*9=63 8*9=72 9*9=81 \n",
      "\n"
     ]
    }
   ],
   "source": [
    "for i in range(1,10):\n",
    "    for j in range(1,i+1):\n",
    "        print(f\"{j}*{i}=\"+str(i*j)+\" \",end=\"\")\n",
    "    print(\"\\n\")"
   ]
  },
  {
   "cell_type": "markdown",
   "metadata": {},
   "source": [
    "斐波拉契数列"
   ]
  },
  {
   "cell_type": "code",
   "execution_count": 13,
   "metadata": {},
   "outputs": [
    {
     "data": {
      "text/plain": [
       "[1, 1, 2, 3, 5, 8, 13, 21, 34, 55]"
      ]
     },
     "execution_count": 13,
     "metadata": {},
     "output_type": "execute_result"
    }
   ],
   "source": [
    "def fibs(n):\n",
    "    a, b = 0, 1\n",
    "    while n > 0:\n",
    "        a, b = b, a+b\n",
    "        n -= 1\n",
    "        yield a\n",
    "list(fibs(10))"
   ]
  },
  {
   "cell_type": "markdown",
   "metadata": {},
   "source": [
    "青蛙"
   ]
  },
  {
   "cell_type": "code",
   "execution_count": 51,
   "metadata": {},
   "outputs": [],
   "source": [
    "def dump(l):\n",
    "    s = 0\n",
    "    d = 1\n",
    "    env = True\n",
    "    while s < l:\n",
    "        s = (s+5)*round(1/5,2) if env else (s+3)*round(1/3,2)\n",
    "        env = not env\n",
    "        d += 0.5\n",
    "        if d > 9999.5:\n",
    "            return f\"超过{d}天了，别跳了，还是坐在井里吧！\"\n",
    "    return f\"需要{d}天才可以跳出这个井！\"\n",
    "            "
   ]
  },
  {
   "cell_type": "code",
   "execution_count": 52,
   "metadata": {},
   "outputs": [
    {
     "data": {
      "text/plain": [
       "'超过10000.0天了，别跳了，还是坐在井里吧！'"
      ]
     },
     "execution_count": 52,
     "metadata": {},
     "output_type": "execute_result"
    }
   ],
   "source": [
    "dump(15)"
   ]
  },
  {
   "cell_type": "markdown",
   "metadata": {},
   "source": [
    "作业三,见py文件"
   ]
  },
  {
   "cell_type": "markdown",
   "metadata": {},
   "source": [
    "作业四：先谷歌后百度- - ！"
   ]
  }
 ],
 "metadata": {
  "kernelspec": {
   "display_name": "Python 3",
   "language": "python",
   "name": "python3"
  },
  "language_info": {
   "codemirror_mode": {
    "name": "ipython",
    "version": 3
   },
   "file_extension": ".py",
   "mimetype": "text/x-python",
   "name": "python",
   "nbconvert_exporter": "python",
   "pygments_lexer": "ipython3",
   "version": "3.7.3"
  }
 },
 "nbformat": 4,
 "nbformat_minor": 2
}
